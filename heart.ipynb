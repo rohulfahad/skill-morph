{
  "nbformat": 4,
  "nbformat_minor": 0,
  "metadata": {
    "colab": {
      "provenance": [],
      "authorship_tag": "ABX9TyOpRN63lkoHkFuCkBzcrKrS",
      "include_colab_link": true
    },
    "kernelspec": {
      "name": "python3",
      "display_name": "Python 3"
    },
    "language_info": {
      "name": "python"
    }
  },
  "cells": [
    {
      "cell_type": "markdown",
      "metadata": {
        "id": "view-in-github",
        "colab_type": "text"
      },
      "source": [
        "<a href=\"https://colab.research.google.com/github/rohulfahad/skill-morph/blob/ML_model(heart-)/heart.ipynb\" target=\"_parent\"><img src=\"https://colab.research.google.com/assets/colab-badge.svg\" alt=\"Open In Colab\"/></a>"
      ]
    },
    {
      "cell_type": "code",
      "source": [
        "import pandas as pd\n",
        "import numpy as np\n",
        "from sklearn.model_selection import train_test_split\n",
        "from sklearn.preprocessing import StandardScaler\n",
        "from sklearn.linear_model import LogisticRegression\n",
        "from sklearn.metrics import accuracy_score, confusion_matrix, classification_report\n",
        "from imblearn.over_sampling import SMOTE\n",
        "\n",
        "df = pd.read_csv(\"heart_disease.csv\")\n",
        "df = df.dropna()\n",
        "df = pd.get_dummies(df, drop_first=True)\n",
        "\n",
        "X = df.drop(\"Heart Disease Status_Yes\", axis=1)\n",
        "y = df[\"Heart Disease Status_Yes\"]\n",
        "\n",
        "X_train, X_test, y_train, y_test = train_test_split(X, y, test_size=0.2, random_state=42, stratify=y)\n",
        "\n",
        "scaler = StandardScaler()\n",
        "X_train_scaled = scaler.fit_transform(X_train)\n",
        "X_test_scaled = scaler.transform(X_test)\n",
        "\n",
        "smote = SMOTE(random_state=42)\n",
        "X_train_res, y_train_res = smote.fit_resample(X_train_scaled, y_train)\n",
        "\n",
        "model = LogisticRegression(max_iter=1000, class_weight='balanced', random_state=42)\n",
        "model.fit(X_train_res, y_train_res)\n",
        "\n",
        "y_pred = model.predict(X_test_scaled)\n",
        "\n",
        "print(\"Accuracy:\", accuracy_score(y_test, y_pred))\n",
        "print(\"Confusion Matrix:\\n\", confusion_matrix(y_test, y_pred))\n",
        "print(\"Classification Report:\\n\", classification_report(y_test, y_pred))\n"
      ],
      "metadata": {
        "colab": {
          "base_uri": "https://localhost:8080/"
        },
        "id": "1pVzG3C0rp58",
        "outputId": "b3b06123-c561-4dd8-b5ea-27be7d46913c"
      },
      "execution_count": 12,
      "outputs": [
        {
          "output_type": "stream",
          "name": "stdout",
          "text": [
            "Accuracy: 0.5035360678925035\n",
            "Confusion Matrix:\n",
            " [[570 557]\n",
            " [145 142]]\n",
            "Classification Report:\n",
            "               precision    recall  f1-score   support\n",
            "\n",
            "       False       0.80      0.51      0.62      1127\n",
            "        True       0.20      0.49      0.29       287\n",
            "\n",
            "    accuracy                           0.50      1414\n",
            "   macro avg       0.50      0.50      0.45      1414\n",
            "weighted avg       0.68      0.50      0.55      1414\n",
            "\n"
          ]
        }
      ]
    },
    {
      "cell_type": "code",
      "source": [
        "print(df.columns)"
      ],
      "metadata": {
        "colab": {
          "base_uri": "https://localhost:8080/"
        },
        "id": "01yRWTV9sQLJ",
        "outputId": "297ee1a7-8ca3-4d8b-b0de-a6b494970148"
      },
      "execution_count": null,
      "outputs": [
        {
          "output_type": "stream",
          "name": "stdout",
          "text": [
            "Index(['Age', 'Blood Pressure', 'Cholesterol Level', 'BMI', 'Sleep Hours',\n",
            "       'Triglyceride Level', 'Fasting Blood Sugar', 'CRP Level',\n",
            "       'Homocysteine Level', 'Gender_Male', 'Exercise Habits_Low',\n",
            "       'Exercise Habits_Medium', 'Smoking_Yes', 'Family Heart Disease_Yes',\n",
            "       'Diabetes_Yes', 'High Blood Pressure_Yes', 'Low HDL Cholesterol_Yes',\n",
            "       'High LDL Cholesterol_Yes', 'Alcohol Consumption_Low',\n",
            "       'Alcohol Consumption_Medium', 'Stress Level_Low', 'Stress Level_Medium',\n",
            "       'Sugar Consumption_Low', 'Sugar Consumption_Medium',\n",
            "       'Heart Disease Status_Yes'],\n",
            "      dtype='object')\n"
          ]
        }
      ]
    }
  ]
}